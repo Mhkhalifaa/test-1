{
  "nbformat": 4,
  "nbformat_minor": 0,
  "metadata": {
    "colab": {
      "name": "Untitled1.ipynb",
      "provenance": [],
      "authorship_tag": "ABX9TyM2UR0rYGC0q3Gg8ynW59KV",
      "include_colab_link": true
    },
    "kernelspec": {
      "name": "python3",
      "display_name": "Python 3"
    },
    "language_info": {
      "name": "python"
    }
  },
  "cells": [
    {
      "cell_type": "markdown",
      "metadata": {
        "id": "view-in-github",
        "colab_type": "text"
      },
      "source": [
        "<a href=\"https://colab.research.google.com/github/Mhkhalifaa/test-1/blob/main/Untitled1.ipynb\" target=\"_parent\"><img src=\"https://colab.research.google.com/assets/colab-badge.svg\" alt=\"Open In Colab\"/></a>"
      ]
    },
    {
      "cell_type": "code",
      "execution_count": null,
      "metadata": {
        "id": "rOJzRJf0Ug8o"
      },
      "outputs": [],
      "source": [
        "import matplotlib.pyplot as plt\n",
        "import pandas as pd\n",
        "import numpy as np\n",
        "from IPython.core.pylabtools import figsize"
      ]
    },
    {
      "cell_type": "markdown",
      "source": [
        "importing "
      ],
      "metadata": {
        "id": "DCMqUJssUpOY"
      }
    },
    {
      "cell_type": "code",
      "source": [
        "DNA= 'CAGCGCGAGGCGCGCCGCTCCAGGCGGCATCGCAGGGCTGGGCCGGCGCGGCCTGGGGACCCCGGGC'\n",
        "A= DNA.count (\"A\")\n",
        "T= DNA.count (\"T\")\n",
        "C= DNA.count (\"C\")\n",
        "G= DNA.count (\"G\")"
      ],
      "metadata": {
        "id": "voonB6saUsO0"
      },
      "execution_count": null,
      "outputs": []
    }
  ]
}